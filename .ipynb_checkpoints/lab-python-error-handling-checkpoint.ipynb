{
 "cells": [
  {
   "cell_type": "markdown",
   "id": "25d7736c-ba17-4aff-b6bb-66eba20fbf4e",
   "metadata": {},
   "source": [
    "# Lab | Error Handling"
   ]
  },
  {
   "cell_type": "markdown",
   "id": "bc99b386-7508-47a0-bcdb-d969deaf6c8b",
   "metadata": {},
   "source": [
    "## Exercise: Error Handling for Managing Customer Orders\n",
    "\n",
    "The implementation of your code for managing customer orders assumes that the user will always enter a valid input. \n",
    "\n",
    "For example, we could modify the `initialize_inventory` function to include error handling.\n",
    "   - If the user enters an invalid quantity (e.g., a negative value or a non-numeric value), display an error message and ask them to re-enter the quantity for that product.\n",
    "   - Use a try-except block to handle the error and continue prompting the user until a valid quantity is entered.\n",
    "\n",
    "```python\n",
    "# Step 1: Define the function for initializing the inventory with error handling\n",
    "def initialize_inventory(products):\n",
    "    inventory = {}\n",
    "    for product in products:\n",
    "        valid_quantity = False\n",
    "        while not valid_quantity:\n",
    "            try:\n",
    "                quantity = int(input(f\"Enter the quantity of {product}s available: \"))\n",
    "                if quantity < 0:\n",
    "                    raise ValueError(\"Invalid quantity! Please enter a non-negative value.\")\n",
    "                valid_quantity = True\n",
    "            except ValueError as error:\n",
    "                print(f\"Error: {error}\")\n",
    "        inventory[product] = quantity\n",
    "    return inventory\n",
    "\n",
    "# Or, in another way:\n",
    "\n",
    "def initialize_inventory(products):\n",
    "    inventory = {}\n",
    "    for product in products:\n",
    "        valid_input = False\n",
    "        while not valid_input:\n",
    "            try:\n",
    "                quantity = int(input(f\"Enter the quantity of {product}s available: \"))\n",
    "                if quantity >= 0:\n",
    "                    inventory[product] = quantity\n",
    "                    valid_input = True\n",
    "                else:\n",
    "                    print(\"Quantity cannot be negative. Please enter a valid quantity.\")\n",
    "            except ValueError:\n",
    "                print(\"Invalid input. Please enter a valid quantity.\")\n",
    "    return inventory\n",
    "```\n",
    "\n",
    "Let's enhance your code by implementing error handling to handle invalid inputs.\n",
    "\n",
    "Follow the steps below to complete the exercise:\n",
    "\n",
    "2. Modify the `calculate_total_price` function to include error handling.\n",
    "   - If the user enters an invalid price (e.g., a negative value or a non-numeric value), display an error message and ask them to re-enter the price for that product.\n",
    "   - Use a try-except block to handle the error and continue prompting the user until a valid price is entered.\n",
    "\n",
    "3. Modify the `get_customer_orders` function to include error handling.\n",
    "   - If the user enters an invalid number of orders (e.g., a negative value or a non-numeric value), display an error message and ask them to re-enter the number of orders.\n",
    "   - If the user enters an invalid product name (e.g., a product name that is not in the inventory), or that doesn't have stock available, display an error message and ask them to re-enter the product name. *Hint: you will need to pass inventory as a parameter*\n",
    "   - Use a try-except block to handle the error and continue prompting the user until a valid product name is entered.\n",
    "\n",
    "4. Test your code by running the program and deliberately entering invalid quantities and product names. Make sure the error handling mechanism works as expected.\n"
   ]
  },
  {
   "cell_type": "code",
   "execution_count": 1,
   "id": "330dc8db",
   "metadata": {},
   "outputs": [],
   "source": [
    "products = [\"t-shirt\", \"mug\", \"hat\", \"book\", \"keychain\"]"
   ]
  },
  {
   "cell_type": "code",
   "execution_count": 18,
   "id": "87a908fb",
   "metadata": {},
   "outputs": [
    {
     "name": "stdout",
     "output_type": "stream",
     "text": [
      "Enter the quantity of t-shirts available: no\n",
      "Invalid input. Please enter a valid quantity.\n",
      "Enter the quantity of t-shirts available: 5\n",
      "Enter the quantity of mugs available: -1\n",
      "Quantity cannot be negative. Please enter a valid quantity.\n",
      "Enter the quantity of mugs available: 5\n",
      "Enter the quantity of hats available: 5\n",
      "Enter the quantity of books available: 5\n",
      "Enter the quantity of keychains available: 5\n"
     ]
    },
    {
     "data": {
      "text/plain": [
       "{'t-shirt': 5, 'mug': 5, 'hat': 5, 'book': 5, 'keychain': 5}"
      ]
     },
     "execution_count": 18,
     "metadata": {},
     "output_type": "execute_result"
    }
   ],
   "source": [
    "#we're initializing inventory\n",
    "# so we're adding key value pairs to our inventory dictionary.\n",
    "\n",
    "def initialize_inventory(products):\n",
    "    inventory = {}\n",
    "    \n",
    "    # again\n",
    "    # i'm iterating over my products list to ask the user to enter the amount there is per product. \n",
    "    #The number is stored above in my dict: inventory={}\n",
    "    for product in products:\n",
    "        #this is the same as saying:\n",
    "        # valid_input = True\n",
    "        # while valid_input... where valid_input is False, while not valid_input means while True..\n",
    "        # why start a WHILE loop? because of error handling.. if user enters a string or a negative \n",
    "        # number, it cannot pass..\n",
    "        valid_input = False\n",
    "        while not valid_input:\n",
    "            try:\n",
    "                #my user input\n",
    "                quantity = int(input(f\"Enter the quantity of {product}s available: \"))\n",
    "                if quantity >= 0:\n",
    "                    inventory[product] = quantity\n",
    "                    valid_input = True\n",
    "                else:\n",
    "                    print(\"Quantity cannot be negative. Please enter a valid quantity.\")\n",
    "            except ValueError:\n",
    "                print(\"Invalid input. Please enter a valid quantity.\")\n",
    "    return inventory\n",
    "\n",
    "initialize_inventory(products)"
   ]
  },
  {
   "cell_type": "code",
   "execution_count": 16,
   "id": "f4da9af6",
   "metadata": {},
   "outputs": [],
   "source": [
    "#Modify the calculate_total_price function to include error handling.\n",
    "\n",
    "    #If the user enters an invalid price (e.g., a negative value or a non-numeric value),\n",
    "    #display an error message and ask them to re-enter the price for that product.\n",
    "    \n",
    "    #Use a try-except block to handle the error and continue prompting the user until a valid price is entered."
   ]
  },
  {
   "cell_type": "code",
   "execution_count": 19,
   "id": "68c9c652",
   "metadata": {},
   "outputs": [
    {
     "name": "stdout",
     "output_type": "stream",
     "text": [
      "Enter the price for hat: $0\n",
      "Price cannot be negative. Please enter a valid price.\n",
      "Enter the price for hat: $5\n",
      "Enter the price for book: $5\n",
      "Total Price of Customer Order: 10.0\n"
     ]
    }
   ],
   "source": [
    "customer_orders = {'book', 'hat'}\n",
    "\n",
    "def calculate_total_price(customer_orders):\n",
    "    \n",
    "    total_price = 0\n",
    "\n",
    "    for each in customer_orders:\n",
    "        \n",
    "        correct_input = False\n",
    "        while not correct_input:\n",
    "            try:\n",
    "                price = float(input(f\"Enter the price for {each}: $\"))\n",
    "                if price > 0:\n",
    "                    total_price += price\n",
    "                    correct_input = True\n",
    "                else:\n",
    "                    print(\"Price cannot be negative. Please enter a valid price.\")\n",
    "            except ValueError:\n",
    "                print(\"Not a valid number. Please enter a valid price.\")\n",
    "\n",
    "    return total_price\n",
    "\n",
    "result = calculate_total_price(customer_orders)\n",
    "print(\"Total Price of Customer Order:\", result)\n",
    "\n",
    "        \n"
   ]
  },
  {
   "cell_type": "code",
   "execution_count": null,
   "id": "ae9e1e03",
   "metadata": {},
   "outputs": [],
   "source": [
    "---------------------------------------------"
   ]
  },
  {
   "cell_type": "code",
   "execution_count": null,
   "id": "958c08bf",
   "metadata": {},
   "outputs": [],
   "source": [
    "#Modify the get_customer_orders function to include error handling.\n",
    "#If the user enters an invalid number of orders (e.g., a negative value or a non-numeric value), \n",
    "#display an error message and ask them to re-enter the number of orders.\n",
    "#If the user enters an invalid product name (e.g., a product name that is not in the inventory),\n",
    "#or that doesn't have stock available, display an error message and ask them to re-enter the product name. \n",
    "#Hint: you will need to pass inventory as a parameter\n",
    "#Use a try-except block to handle the error and continue prompting the user until a valid product name is entered."
   ]
  },
  {
   "cell_type": "code",
   "execution_count": 46,
   "id": "75475bed",
   "metadata": {},
   "outputs": [
    {
     "name": "stdout",
     "output_type": "stream",
     "text": [
      "Enter the number of customer orders: 2\n",
      "What product do you want? We have these ['t-shirt', 'mug', 'hat', 'book', 'keychain']: book\n",
      "What product do you want? We have these ['t-shirt', 'mug', 'hat', 'book', 'keychain']: hat\n",
      "Do you want to add another product? (yes/no): no\n",
      "You've ordered the following products: {'hat', 'book'}\n",
      "It should ship in 2-3 days.\n"
     ]
    },
    {
     "data": {
      "text/plain": [
       "{'book', 'hat'}"
      ]
     },
     "execution_count": 46,
     "metadata": {},
     "output_type": "execute_result"
    }
   ],
   "source": [
    "products = [\"t-shirt\", \"mug\", \"hat\", \"book\", \"keychain\"]\n",
    "customer_orders = set()\n",
    "inventory = {'t-shirt': 5, 'mug': 5, 'hat': 5, 'book': 5, 'keychain': 5}\n",
    "\n",
    "# 1 I need the number of orders and \n",
    "# 2 the product of each order.\n",
    "def get_customer_orders(inventory):\n",
    "    \n",
    "    while True:\n",
    "        try:\n",
    "            #the number of orders\n",
    "            num_orders = int(input(\"Enter the number of customer orders: \"))\n",
    "            \n",
    "            #my orders need to be a valid number\n",
    "            if num_orders < 0:\n",
    "                raise ValueError(\"Number of orders cannot be negative.\")\n",
    "                \n",
    "            # the product of each order\n",
    "            for i in range(num_orders):\n",
    "                ask_user = input(f\"What product do you want? We have these {products}: \")\n",
    "                \n",
    "                while ask_user.lower() not in inventory or inventory[ask_user.lower()] == 0:\n",
    "                    print(f\"We either don't have {ask_user} in stock or it's out of stock. We have these {products}.\")\n",
    "                    ask_user = input(\"What product do you want? \")\n",
    "                customer_orders.add(ask_user.lower())\n",
    "                \n",
    "        except ValueError:\n",
    "            print(f\"Invalid input: Please enter a valid number of orders.\")\n",
    "            continue\n",
    "\n",
    "        ask0_user = input(\"Do you want to add another product? (yes/no): \")\n",
    "        if ask0_user.lower() == \"no\":\n",
    "            break\n",
    "\n",
    "    print(f\"You've ordered the following products: {customer_orders}\")\n",
    "    print(\"It should ship in 2-3 days.\")\n",
    "    return customer_orders\n",
    "\n",
    "get_customer_orders(inventory)\n",
    "\n",
    "\n",
    "\n"
   ]
  },
  {
   "cell_type": "code",
   "execution_count": null,
   "id": "c6132f4c",
   "metadata": {},
   "outputs": [],
   "source": [
    "#Test your code by running the program and deliberately entering invalid quantities and product names. \n",
    "#Make sure the error handling mechanism works as expected."
   ]
  },
  {
   "cell_type": "code",
   "execution_count": 21,
   "id": "de293517",
   "metadata": {},
   "outputs": [
    {
     "name": "stdout",
     "output_type": "stream",
     "text": [
      "Enter the quantity of t-shirts available: -9\n",
      "Quantity cannot be negative. Please enter a valid quantity.\n",
      "Enter the quantity of t-shirts available: two\n",
      "Invalid input. Please enter a valid quantity.\n",
      "Enter the quantity of t-shirts available: 3.4\n",
      "Invalid input. Please enter a valid quantity.\n",
      "Enter the quantity of t-shirts available: 3\n",
      "Enter the quantity of mugs available: 3\n",
      "Enter the quantity of hats available: 3\n",
      "Enter the quantity of books available: 3\n",
      "Enter the quantity of keychains available: 3\n"
     ]
    },
    {
     "data": {
      "text/plain": [
       "{'t-shirt': 3, 'mug': 3, 'hat': 3, 'book': 3, 'keychain': 3}"
      ]
     },
     "execution_count": 21,
     "metadata": {},
     "output_type": "execute_result"
    }
   ],
   "source": [
    "initialize_inventory(products)"
   ]
  },
  {
   "cell_type": "code",
   "execution_count": 22,
   "id": "d0cec243",
   "metadata": {},
   "outputs": [
    {
     "name": "stdout",
     "output_type": "stream",
     "text": [
      "Enter the price for mug: $-1\n",
      "Price cannot be negative. Please enter a valid price.\n",
      "Enter the price for mug: $two\\\n",
      "Not a valid number. Please enter a valid price.\n",
      "Enter the price for mug: $5\n",
      "Enter the price for hat: $5\n"
     ]
    },
    {
     "data": {
      "text/plain": [
       "10.0"
      ]
     },
     "execution_count": 22,
     "metadata": {},
     "output_type": "execute_result"
    }
   ],
   "source": [
    "calculate_total_price(customer_orders)"
   ]
  },
  {
   "cell_type": "code",
   "execution_count": 47,
   "id": "f4caece1",
   "metadata": {},
   "outputs": [
    {
     "name": "stdout",
     "output_type": "stream",
     "text": [
      "Enter the number of customer orders: 2\n",
      "What product do you want? We have these ['t-shirt', 'mug', 'hat', 'book', 'keychain']: hat\n",
      "What product do you want? We have these ['t-shirt', 'mug', 'hat', 'book', 'keychain']: book\n",
      "Do you want to add another product? (yes/no): no\n",
      "You've ordered the following products: {'hat', 'book'}\n",
      "It should ship in 2-3 days.\n"
     ]
    },
    {
     "data": {
      "text/plain": [
       "{'book', 'hat'}"
      ]
     },
     "execution_count": 47,
     "metadata": {},
     "output_type": "execute_result"
    }
   ],
   "source": [
    "get_customer_orders(inventory)\n"
   ]
  }
 ],
 "metadata": {
  "kernelspec": {
   "display_name": "Python 3 (ipykernel)",
   "language": "python",
   "name": "python3"
  },
  "language_info": {
   "codemirror_mode": {
    "name": "ipython",
    "version": 3
   },
   "file_extension": ".py",
   "mimetype": "text/x-python",
   "name": "python",
   "nbconvert_exporter": "python",
   "pygments_lexer": "ipython3",
   "version": "3.11.5"
  }
 },
 "nbformat": 4,
 "nbformat_minor": 5
}
